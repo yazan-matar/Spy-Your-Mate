{
  "cells": [
    {
      "cell_type": "code",
      "execution_count": 1,
      "metadata": {
        "id": "RdsG8it1wZP7"
      },
      "outputs": [],
      "source": [
        "import csv\n",
        "import pandas as pd\n",
        "import numpy as np\n",
        "from datetime import datetime\n",
        "import random\n",
        "\n",
        "from sklearn.model_selection import train_test_split"
      ]
    },
    {
      "cell_type": "code",
      "execution_count": 2,
      "metadata": {
        "id": "AqoIE5bHwqh8"
      },
      "outputs": [],
      "source": [
        "filename = 'dataset_training.csv'\n",
        "\n",
        "file = open(filename)\n",
        "csvreader = csv.reader(file)"
      ]
    },
    {
      "cell_type": "code",
      "execution_count": 3,
      "metadata": {
        "colab": {
          "base_uri": "https://localhost:8080/"
        },
        "id": "mLv1r7LTwyap",
        "outputId": "7291b85e-b6b7-416f-d301-789373291b73"
      },
      "outputs": [
        {
          "data": {
            "text/plain": [
              "['No.',\n",
              " 'DateTime',\n",
              " 'Time',\n",
              " 'Source',\n",
              " 'Destination',\n",
              " 'Protocol',\n",
              " 'Length',\n",
              " 'Delta Time',\n",
              " 'Arrival Time']"
            ]
          },
          "execution_count": 3,
          "metadata": {},
          "output_type": "execute_result"
        }
      ],
      "source": [
        "# fields extracted\n",
        "header = []\n",
        "header = next(csvreader)\n",
        "header"
      ]
    },
    {
      "cell_type": "code",
      "execution_count": 4,
      "metadata": {
        "id": "sDUKjOOizWss"
      },
      "outputs": [],
      "source": [
        "data= pd.read_csv(filename, encoding = \"ISO-8859-1\")\n",
        "\n",
        "resampling_frequency='1000ms'\n",
        "time=1000\n",
        "test_size=0.4\n",
        "\n",
        "#filter rows by column values\n",
        "data = data [data['Protocol']=='RTP']\n",
        "#select multiple columns\n",
        "data = pd.DataFrame(data, columns=['No.','Source', 'Destination','Time', 'DateTime','Length', 'Delta Time'])"
      ]
    },
    {
      "cell_type": "markdown",
      "metadata": {},
      "source": [
        "# Dataset Preparation"
      ]
    },
    {
      "cell_type": "code",
      "execution_count": 5,
      "metadata": {
        "id": "5bNdL7qhk7Ft"
      },
      "outputs": [],
      "source": [
        "# add ground truth column\n",
        "label = [None] * data['Length'].count()\n",
        "data.insert(len(data.columns), \"Inbound\", label ,True)\n",
        "\n",
        "for index,row in data.iterrows():\n",
        "    if(row['Destination']=='10.0.2.15'):\n",
        "     data.at[index,'Inbound']=1\n",
        "    else:\n",
        "      data.at[index,'Inbound']=0"
      ]
    },
    {
      "cell_type": "code",
      "execution_count": 6,
      "metadata": {
        "id": "pZnbM-4M7mua"
      },
      "outputs": [],
      "source": [
        "# convert DateTime from string to index to be used for resampling\n",
        "\n",
        "from pandas.core.indexes.datetimes import DatetimeIndex\n",
        "data['DateTime'] = pd.to_datetime(data['DateTime'], format='%H:%M:%S.%f')\n",
        "data_index = pd.DatetimeIndex(data['DateTime'])\n",
        "data = data.set_index(data_index)"
      ]
    },
    {
      "cell_type": "code",
      "execution_count": 7,
      "metadata": {
        "id": "O8C2FvnN0vo7"
      },
      "outputs": [],
      "source": [
        "inbound = data[data['Destination']=='10.0.2.15']\n",
        "outbound = data[data['Source']=='10.0.2.15']\n",
        "\n",
        "# AGGREGATE\n",
        "# number of packets after resampling\n",
        "data_counter = data.groupby([pd.Grouper(key='DateTime', freq=resampling_frequency)]).count()\n",
        "# compute average of the aggregate's features\n",
        "data = data.groupby([pd.Grouper(key='DateTime', freq=resampling_frequency)]).mean().groupby(level=0).mean()\n",
        "\n",
        "# INBOUND\n",
        "# number of packets after resampling\n",
        "inbound_counter = inbound.groupby([pd.Grouper(key='DateTime', freq=resampling_frequency)]).count()\n",
        "# compute average of the aggregate's features\n",
        "inbound = inbound.groupby([pd.Grouper(key='DateTime', freq=resampling_frequency)]).mean().groupby(level=0).mean()\n",
        "\n",
        "# OUTBOUND\n",
        "# number of packets after resampling\n",
        "outbound_counter = outbound.groupby([pd.Grouper(key='DateTime', freq=resampling_frequency)]).count()\n",
        "# compute average of the aggregate's features\n",
        "outbound = outbound.groupby([pd.Grouper(key='DateTime', freq=resampling_frequency)]).mean().groupby(level=0).mean()\n",
        "\n",
        "\n",
        "inbound= inbound.loc[:, inbound.columns != 'No.']\n",
        "outbound= outbound.loc[:, outbound.columns != 'No.']\n",
        "\n",
        "inbound = inbound.rename(columns={'Time': 'Time (Inbound)', 'Length':'Length (Inbound)', 'Delta Time': 'Delta Time (Inbound)'})\n",
        "outbound = outbound.rename(columns={'Time': 'Time (Outbound)', 'Length':'Length (Outbound)', 'Delta Time': 'Delta Time (Outbound)'})\n",
        "\n",
        "inbound.insert(0, \"Number of packets (Inbound)\", inbound_counter['No.'].values,True)\n",
        "outbound.insert(0, \"Number of packets (Outbound)\", outbound_counter['No.'].values,True)"
      ]
    },
    {
      "cell_type": "code",
      "execution_count": 8,
      "metadata": {
        "id": "YrcJKvuQEipr"
      },
      "outputs": [],
      "source": [
        "# AGGREGATE\n",
        "# add number of packets column\n",
        "data.insert(0, \"Number of packets\", data_counter['No.'].values,True)\n",
        "data.drop('No.', axis=1, inplace=True)\n",
        "\n",
        "# add average length per ms\n",
        "bytes_per_ms = data['Length']/time\n",
        "data.insert(len(data.columns), \"Bytes/ms\", bytes_per_ms, True)\n",
        "\n",
        "# add bit-rate column\n",
        "rate = data['Number of packets']/time\n",
        "data.insert(len(data.columns), \"Bit-Rate\", rate, True)\n",
        "\n",
        "\n",
        "# INBOUND\n",
        "# add average length per ms\n",
        "bytes_per_ms = inbound['Length (Inbound)']/time\n",
        "inbound.insert(len(inbound.columns), \"Bytes/ms (Inbound)\", bytes_per_ms, True)\n",
        "\n",
        "# add bit-rate column\n",
        "rate = inbound['Number of packets (Inbound)']/time\n",
        "inbound.insert(len(inbound.columns), \"Bit-Rate (Inbound)\", rate, True)\n",
        "\n",
        "inbound.drop('Time (Inbound)', axis=1, inplace=True)\n",
        "inbound.drop('Number of packets (Inbound)', axis=1, inplace=True)\n",
        "\n",
        "# OUTBOUND\n",
        "# add average length per ms\n",
        "bytes_per_ms = outbound['Length (Outbound)']/time\n",
        "outbound.insert(len(outbound.columns), \"Bytes/ms (Outbound)\", bytes_per_ms, True)\n",
        "\n",
        "# add bit-rate column\n",
        "rate = outbound['Number of packets (Outbound)']/time\n",
        "outbound.insert(len(outbound.columns), \"Bit-Rate (Outbound)\", rate, True)\n",
        "\n",
        "outbound.drop('Time (Outbound)', axis=1, inplace=True)\n",
        "outbound.drop('Number of packets (Outbound)', axis=1, inplace=True)"
      ]
    },
    {
      "cell_type": "code",
      "execution_count": 9,
      "metadata": {
        "id": "5w65q0F19t_v"
      },
      "outputs": [],
      "source": [
        "overall = pd.concat([inbound, outbound], axis=1)\n",
        "overall = pd.concat([data,overall], axis=1)"
      ]
    },
    {
      "cell_type": "code",
      "execution_count": 10,
      "metadata": {
        "colab": {
          "base_uri": "https://localhost:8080/",
          "height": 690
        },
        "id": "AS1jE6K7qBhl",
        "outputId": "cb9200e1-b8bc-4a7e-a53d-2f8a6122e916"
      },
      "outputs": [
        {
          "data": {
            "text/html": [
              "<div>\n",
              "<style scoped>\n",
              "    .dataframe tbody tr th:only-of-type {\n",
              "        vertical-align: middle;\n",
              "    }\n",
              "\n",
              "    .dataframe tbody tr th {\n",
              "        vertical-align: top;\n",
              "    }\n",
              "\n",
              "    .dataframe thead th {\n",
              "        text-align: right;\n",
              "    }\n",
              "</style>\n",
              "<table border=\"1\" class=\"dataframe\">\n",
              "  <thead>\n",
              "    <tr style=\"text-align: right;\">\n",
              "      <th></th>\n",
              "      <th>Length</th>\n",
              "      <th>Delta Time</th>\n",
              "      <th>Bytes/ms</th>\n",
              "      <th>Bit-Rate</th>\n",
              "      <th>Length (Inbound)</th>\n",
              "      <th>Delta Time (Inbound)</th>\n",
              "      <th>Bytes/ms (Inbound)</th>\n",
              "      <th>Bit-Rate (Inbound)</th>\n",
              "      <th>Length (Outbound)</th>\n",
              "      <th>Delta Time (Outbound)</th>\n",
              "      <th>Bytes/ms (Outbound)</th>\n",
              "      <th>Bit-Rate (Outbound)</th>\n",
              "      <th>Person</th>\n",
              "    </tr>\n",
              "    <tr>\n",
              "      <th>DateTime</th>\n",
              "      <th></th>\n",
              "      <th></th>\n",
              "      <th></th>\n",
              "      <th></th>\n",
              "      <th></th>\n",
              "      <th></th>\n",
              "      <th></th>\n",
              "      <th></th>\n",
              "      <th></th>\n",
              "      <th></th>\n",
              "      <th></th>\n",
              "      <th></th>\n",
              "      <th></th>\n",
              "    </tr>\n",
              "  </thead>\n",
              "  <tbody>\n",
              "    <tr>\n",
              "      <th>1900-01-01 11:53:01</th>\n",
              "      <td>866.200000</td>\n",
              "      <td>0.003475</td>\n",
              "      <td>0.866200</td>\n",
              "      <td>0.070</td>\n",
              "      <td>1022.206897</td>\n",
              "      <td>0.002684</td>\n",
              "      <td>1.022207</td>\n",
              "      <td>0.058</td>\n",
              "      <td>112.166667</td>\n",
              "      <td>0.007301</td>\n",
              "      <td>0.112167</td>\n",
              "      <td>0.012</td>\n",
              "      <td>1.0</td>\n",
              "    </tr>\n",
              "    <tr>\n",
              "      <th>1900-01-01 11:53:02</th>\n",
              "      <td>944.723404</td>\n",
              "      <td>0.003036</td>\n",
              "      <td>0.944723</td>\n",
              "      <td>0.188</td>\n",
              "      <td>968.038251</td>\n",
              "      <td>0.003014</td>\n",
              "      <td>0.968038</td>\n",
              "      <td>0.183</td>\n",
              "      <td>91.400000</td>\n",
              "      <td>0.003825</td>\n",
              "      <td>0.091400</td>\n",
              "      <td>0.005</td>\n",
              "      <td>1.0</td>\n",
              "    </tr>\n",
              "    <tr>\n",
              "      <th>1900-01-01 11:53:03</th>\n",
              "      <td>972.168539</td>\n",
              "      <td>0.003106</td>\n",
              "      <td>0.972169</td>\n",
              "      <td>0.178</td>\n",
              "      <td>992.344828</td>\n",
              "      <td>0.002937</td>\n",
              "      <td>0.992345</td>\n",
              "      <td>0.174</td>\n",
              "      <td>94.500000</td>\n",
              "      <td>0.010468</td>\n",
              "      <td>0.094500</td>\n",
              "      <td>0.004</td>\n",
              "      <td>1.0</td>\n",
              "    </tr>\n",
              "    <tr>\n",
              "      <th>1900-01-01 11:53:04</th>\n",
              "      <td>917.197970</td>\n",
              "      <td>0.003668</td>\n",
              "      <td>0.917198</td>\n",
              "      <td>0.197</td>\n",
              "      <td>943.041885</td>\n",
              "      <td>0.003429</td>\n",
              "      <td>0.943042</td>\n",
              "      <td>0.191</td>\n",
              "      <td>94.500000</td>\n",
              "      <td>0.011282</td>\n",
              "      <td>0.094500</td>\n",
              "      <td>0.006</td>\n",
              "      <td>1.0</td>\n",
              "    </tr>\n",
              "    <tr>\n",
              "      <th>1900-01-01 11:53:05</th>\n",
              "      <td>872.033493</td>\n",
              "      <td>0.003663</td>\n",
              "      <td>0.872033</td>\n",
              "      <td>0.209</td>\n",
              "      <td>898.698020</td>\n",
              "      <td>0.003318</td>\n",
              "      <td>0.898698</td>\n",
              "      <td>0.202</td>\n",
              "      <td>102.571429</td>\n",
              "      <td>0.013620</td>\n",
              "      <td>0.102571</td>\n",
              "      <td>0.007</td>\n",
              "      <td>1.0</td>\n",
              "    </tr>\n",
              "    <tr>\n",
              "      <th>...</th>\n",
              "      <td>...</td>\n",
              "      <td>...</td>\n",
              "      <td>...</td>\n",
              "      <td>...</td>\n",
              "      <td>...</td>\n",
              "      <td>...</td>\n",
              "      <td>...</td>\n",
              "      <td>...</td>\n",
              "      <td>...</td>\n",
              "      <td>...</td>\n",
              "      <td>...</td>\n",
              "      <td>...</td>\n",
              "      <td>...</td>\n",
              "    </tr>\n",
              "    <tr>\n",
              "      <th>1900-01-01 11:56:57</th>\n",
              "      <td>446.227848</td>\n",
              "      <td>0.005112</td>\n",
              "      <td>0.446228</td>\n",
              "      <td>0.158</td>\n",
              "      <td>521.255814</td>\n",
              "      <td>0.005064</td>\n",
              "      <td>0.521256</td>\n",
              "      <td>0.129</td>\n",
              "      <td>112.482759</td>\n",
              "      <td>0.005327</td>\n",
              "      <td>0.112483</td>\n",
              "      <td>0.029</td>\n",
              "      <td>0.0</td>\n",
              "    </tr>\n",
              "    <tr>\n",
              "      <th>1900-01-01 11:56:58</th>\n",
              "      <td>430.455090</td>\n",
              "      <td>0.004563</td>\n",
              "      <td>0.430455</td>\n",
              "      <td>0.167</td>\n",
              "      <td>509.000000</td>\n",
              "      <td>0.004344</td>\n",
              "      <td>0.509000</td>\n",
              "      <td>0.134</td>\n",
              "      <td>111.515152</td>\n",
              "      <td>0.005453</td>\n",
              "      <td>0.111515</td>\n",
              "      <td>0.033</td>\n",
              "      <td>0.0</td>\n",
              "    </tr>\n",
              "    <tr>\n",
              "      <th>1900-01-01 11:56:59</th>\n",
              "      <td>502.571429</td>\n",
              "      <td>0.005822</td>\n",
              "      <td>0.502571</td>\n",
              "      <td>0.140</td>\n",
              "      <td>514.573529</td>\n",
              "      <td>0.005875</td>\n",
              "      <td>0.514574</td>\n",
              "      <td>0.136</td>\n",
              "      <td>94.500000</td>\n",
              "      <td>0.004031</td>\n",
              "      <td>0.094500</td>\n",
              "      <td>0.004</td>\n",
              "      <td>0.0</td>\n",
              "    </tr>\n",
              "    <tr>\n",
              "      <th>1900-01-01 11:57:00</th>\n",
              "      <td>482.838235</td>\n",
              "      <td>0.005789</td>\n",
              "      <td>0.482838</td>\n",
              "      <td>0.136</td>\n",
              "      <td>500.761538</td>\n",
              "      <td>0.005677</td>\n",
              "      <td>0.500762</td>\n",
              "      <td>0.130</td>\n",
              "      <td>94.500000</td>\n",
              "      <td>0.008218</td>\n",
              "      <td>0.094500</td>\n",
              "      <td>0.006</td>\n",
              "      <td>0.0</td>\n",
              "    </tr>\n",
              "    <tr>\n",
              "      <th>1900-01-01 11:57:01</th>\n",
              "      <td>508.250000</td>\n",
              "      <td>0.002309</td>\n",
              "      <td>0.508250</td>\n",
              "      <td>0.004</td>\n",
              "      <td>508.250000</td>\n",
              "      <td>0.002309</td>\n",
              "      <td>0.508250</td>\n",
              "      <td>0.004</td>\n",
              "      <td>NaN</td>\n",
              "      <td>NaN</td>\n",
              "      <td>NaN</td>\n",
              "      <td>NaN</td>\n",
              "      <td>0.0</td>\n",
              "    </tr>\n",
              "  </tbody>\n",
              "</table>\n",
              "<p>241 rows × 13 columns</p>\n",
              "</div>"
            ],
            "text/plain": [
              "                         Length  Delta Time  Bytes/ms  Bit-Rate  \\\n",
              "DateTime                                                          \n",
              "1900-01-01 11:53:01  866.200000    0.003475  0.866200     0.070   \n",
              "1900-01-01 11:53:02  944.723404    0.003036  0.944723     0.188   \n",
              "1900-01-01 11:53:03  972.168539    0.003106  0.972169     0.178   \n",
              "1900-01-01 11:53:04  917.197970    0.003668  0.917198     0.197   \n",
              "1900-01-01 11:53:05  872.033493    0.003663  0.872033     0.209   \n",
              "...                         ...         ...       ...       ...   \n",
              "1900-01-01 11:56:57  446.227848    0.005112  0.446228     0.158   \n",
              "1900-01-01 11:56:58  430.455090    0.004563  0.430455     0.167   \n",
              "1900-01-01 11:56:59  502.571429    0.005822  0.502571     0.140   \n",
              "1900-01-01 11:57:00  482.838235    0.005789  0.482838     0.136   \n",
              "1900-01-01 11:57:01  508.250000    0.002309  0.508250     0.004   \n",
              "\n",
              "                     Length (Inbound)  Delta Time (Inbound)  \\\n",
              "DateTime                                                      \n",
              "1900-01-01 11:53:01       1022.206897              0.002684   \n",
              "1900-01-01 11:53:02        968.038251              0.003014   \n",
              "1900-01-01 11:53:03        992.344828              0.002937   \n",
              "1900-01-01 11:53:04        943.041885              0.003429   \n",
              "1900-01-01 11:53:05        898.698020              0.003318   \n",
              "...                               ...                   ...   \n",
              "1900-01-01 11:56:57        521.255814              0.005064   \n",
              "1900-01-01 11:56:58        509.000000              0.004344   \n",
              "1900-01-01 11:56:59        514.573529              0.005875   \n",
              "1900-01-01 11:57:00        500.761538              0.005677   \n",
              "1900-01-01 11:57:01        508.250000              0.002309   \n",
              "\n",
              "                     Bytes/ms (Inbound)  Bit-Rate (Inbound)  \\\n",
              "DateTime                                                      \n",
              "1900-01-01 11:53:01            1.022207               0.058   \n",
              "1900-01-01 11:53:02            0.968038               0.183   \n",
              "1900-01-01 11:53:03            0.992345               0.174   \n",
              "1900-01-01 11:53:04            0.943042               0.191   \n",
              "1900-01-01 11:53:05            0.898698               0.202   \n",
              "...                                 ...                 ...   \n",
              "1900-01-01 11:56:57            0.521256               0.129   \n",
              "1900-01-01 11:56:58            0.509000               0.134   \n",
              "1900-01-01 11:56:59            0.514574               0.136   \n",
              "1900-01-01 11:57:00            0.500762               0.130   \n",
              "1900-01-01 11:57:01            0.508250               0.004   \n",
              "\n",
              "                     Length (Outbound)  Delta Time (Outbound)  \\\n",
              "DateTime                                                        \n",
              "1900-01-01 11:53:01         112.166667               0.007301   \n",
              "1900-01-01 11:53:02          91.400000               0.003825   \n",
              "1900-01-01 11:53:03          94.500000               0.010468   \n",
              "1900-01-01 11:53:04          94.500000               0.011282   \n",
              "1900-01-01 11:53:05         102.571429               0.013620   \n",
              "...                                ...                    ...   \n",
              "1900-01-01 11:56:57         112.482759               0.005327   \n",
              "1900-01-01 11:56:58         111.515152               0.005453   \n",
              "1900-01-01 11:56:59          94.500000               0.004031   \n",
              "1900-01-01 11:57:00          94.500000               0.008218   \n",
              "1900-01-01 11:57:01                NaN                    NaN   \n",
              "\n",
              "                     Bytes/ms (Outbound)  Bit-Rate (Outbound)  Person  \n",
              "DateTime                                                               \n",
              "1900-01-01 11:53:01             0.112167                0.012     1.0  \n",
              "1900-01-01 11:53:02             0.091400                0.005     1.0  \n",
              "1900-01-01 11:53:03             0.094500                0.004     1.0  \n",
              "1900-01-01 11:53:04             0.094500                0.006     1.0  \n",
              "1900-01-01 11:53:05             0.102571                0.007     1.0  \n",
              "...                                  ...                  ...     ...  \n",
              "1900-01-01 11:56:57             0.112483                0.029     0.0  \n",
              "1900-01-01 11:56:58             0.111515                0.033     0.0  \n",
              "1900-01-01 11:56:59             0.094500                0.004     0.0  \n",
              "1900-01-01 11:57:00             0.094500                0.006     0.0  \n",
              "1900-01-01 11:57:01                  NaN                  NaN     0.0  \n",
              "\n",
              "[241 rows x 13 columns]"
            ]
          },
          "execution_count": 10,
          "metadata": {},
          "output_type": "execute_result"
        }
      ],
      "source": [
        "data = overall\n",
        "\n",
        "# fill ground truth values\n",
        "\n",
        "for index,row in data.iterrows():\n",
        "    if(row['Time']<120):\n",
        "     data.at[index,'Person']=1\n",
        "    else:\n",
        "      data.at[index,'Person']=0\n",
        "data.drop('Time', axis=1, inplace=True)\n",
        "data.drop('Number of packets', axis=1, inplace=True)\n",
        "data"
      ]
    },
    {
      "cell_type": "markdown",
      "metadata": {},
      "source": [
        "Dataset Cleaning"
      ]
    },
    {
      "cell_type": "code",
      "execution_count": 11,
      "metadata": {
        "id": "P-s1eQZejbn6"
      },
      "outputs": [],
      "source": [
        "# function to eliminate NaN and infinite values\n",
        "\n",
        "def clean_dataset(df):\n",
        "    assert isinstance(df, pd.DataFrame), \"df needs to be a pd.DataFrame\"\n",
        "    df.dropna(inplace=True)\n",
        "    indices_to_keep = ~df.isin([np.nan, np.inf, -np.inf]).any(1)\n",
        "    return df[indices_to_keep].astype(np.float64)"
      ]
    },
    {
      "cell_type": "code",
      "execution_count": null,
      "metadata": {},
      "outputs": [],
      "source": [
        "# Ground-Truth training dataset\n",
        "pd.DataFrame(data['Person']).to_csv(\"ground_truth.csv\")"
      ]
    },
    {
      "cell_type": "code",
      "execution_count": 13,
      "metadata": {
        "id": "EK_0slXVsVBf"
      },
      "outputs": [],
      "source": [
        "clean_dataset(data)\n",
        "\n",
        "X = data.loc[:, data.columns != 'Person']\n",
        "X = X.values\n",
        "y = data['Person']\n",
        "y=y.astype('int')\n",
        "\n",
        "X_train, X_test, y_train, y_test = train_test_split(X, y , test_size=test_size, random_state=0)"
      ]
    },
    {
      "cell_type": "markdown",
      "metadata": {},
      "source": [
        "# Models Fitting"
      ]
    },
    {
      "cell_type": "markdown",
      "metadata": {
        "id": "pBQN_7joawoH"
      },
      "source": [
        "Naive Bayes"
      ]
    },
    {
      "cell_type": "code",
      "execution_count": 14,
      "metadata": {
        "colab": {
          "base_uri": "https://localhost:8080/"
        },
        "id": "0JCtICkSaizl",
        "outputId": "af9768c5-ad6e-4e91-8fe5-00400a0e40c0"
      },
      "outputs": [
        {
          "name": "stdout",
          "output_type": "stream",
          "text": [
            "score on test: 0.5416666666666666\n",
            "score on train: 0.5833333333333334\n"
          ]
        }
      ],
      "source": [
        "from sklearn.naive_bayes import MultinomialNB\n",
        "mnb = MultinomialNB().fit(X_train, y_train)\n",
        "\n",
        "print(\"score on test: \" + str(mnb.score(X_test, y_test)))\n",
        "print(\"score on train: \"+ str(mnb.score(X_train, y_train)))"
      ]
    },
    {
      "cell_type": "markdown",
      "metadata": {
        "id": "hqdGZnaOa9co"
      },
      "source": [
        "Logistic Regression"
      ]
    },
    {
      "cell_type": "code",
      "execution_count": 15,
      "metadata": {
        "colab": {
          "base_uri": "https://localhost:8080/"
        },
        "id": "XAUBhUBEt10q",
        "outputId": "bc5154bc-b9b6-4034-e163-552041db1227"
      },
      "outputs": [
        {
          "name": "stdout",
          "output_type": "stream",
          "text": [
            "score on train: 0.8541666666666666\n",
            "score on test: 0.8333333333333334\n"
          ]
        },
        {
          "name": "stderr",
          "output_type": "stream",
          "text": [
            "/usr/local/lib/python3.7/dist-packages/sklearn/linear_model/_logistic.py:818: ConvergenceWarning: lbfgs failed to converge (status=1):\n",
            "STOP: TOTAL NO. of ITERATIONS REACHED LIMIT.\n",
            "\n",
            "Increase the number of iterations (max_iter) or scale the data as shown in:\n",
            "    https://scikit-learn.org/stable/modules/preprocessing.html\n",
            "Please also refer to the documentation for alternative solver options:\n",
            "    https://scikit-learn.org/stable/modules/linear_model.html#logistic-regression\n",
            "  extra_warning_msg=_LOGISTIC_SOLVER_CONVERGENCE_MSG,\n"
          ]
        }
      ],
      "source": [
        "from sklearn.linear_model import LogisticRegression\n",
        "lr=LogisticRegression()\n",
        "lr.fit(X_train, y_train)\n",
        "\n",
        "print(\"score on train: \"+ str(lr.score(X_train, y_train)))\n",
        "print(\"score on test: \" + str(lr.score(X_test, y_test)))"
      ]
    },
    {
      "cell_type": "markdown",
      "metadata": {
        "id": "9f3w7AudbrVI"
      },
      "source": [
        "K-Nearest Neighbor"
      ]
    },
    {
      "cell_type": "code",
      "execution_count": 16,
      "metadata": {
        "colab": {
          "base_uri": "https://localhost:8080/"
        },
        "id": "9gr493aVbtLs",
        "outputId": "d324fda1-cc62-418a-b5f8-a7d7a318aea0"
      },
      "outputs": [
        {
          "name": "stdout",
          "output_type": "stream",
          "text": [
            "train shape: (144, 12)\n",
            "score on test: 0.75\n",
            "score on train: 0.8888888888888888\n"
          ]
        }
      ],
      "source": [
        "from sklearn.neighbors import KNeighborsClassifier\n",
        "knn = KNeighborsClassifier(algorithm = 'brute', n_jobs=-1)\n",
        "knn.fit(X_train, y_train)\n",
        "\n",
        "print(\"train shape: \" + str(X_train.shape))\n",
        "print(\"score on test: \" + str(knn.score(X_test, y_test)))\n",
        "print(\"score on train: \"+ str(knn.score(X_train, y_train)))"
      ]
    },
    {
      "cell_type": "markdown",
      "metadata": {
        "id": "vTiO6JKycvHK"
      },
      "source": [
        "Decision Tree"
      ]
    },
    {
      "cell_type": "code",
      "execution_count": 17,
      "metadata": {
        "colab": {
          "base_uri": "https://localhost:8080/"
        },
        "id": "ThqL5o_8cweG",
        "outputId": "ad54f504-22af-4034-edc3-aab5ff226c70"
      },
      "outputs": [
        {
          "name": "stdout",
          "output_type": "stream",
          "text": [
            "score on test: 0.8645833333333334\n",
            "score on train: 1.0\n"
          ]
        }
      ],
      "source": [
        "from sklearn.tree import DecisionTreeClassifier\n",
        "dt = DecisionTreeClassifier()\n",
        "dt.fit(X_train, y_train)\n",
        "\n",
        "print(\"score on test: \"  + str(dt.score(X_test, y_test)))\n",
        "print(\"score on train: \" + str(dt.score(X_train, y_train)))\n",
        "\n",
        "# BEST RESULT :\n",
        "# freq: 1s, test_size: 0.4"
      ]
    },
    {
      "cell_type": "markdown",
      "metadata": {
        "id": "3TN3OnTRdIP-"
      },
      "source": [
        "Random Forest"
      ]
    },
    {
      "cell_type": "code",
      "execution_count": 18,
      "metadata": {
        "colab": {
          "base_uri": "https://localhost:8080/"
        },
        "id": "j_CfDrfedJMx",
        "outputId": "8d0d9da0-17d8-43af-e0b8-76b1810259ba"
      },
      "outputs": [
        {
          "name": "stdout",
          "output_type": "stream",
          "text": [
            "score on test: 0.8541666666666666\n",
            "score on train: 1.0\n"
          ]
        }
      ],
      "source": [
        "from sklearn.ensemble import RandomForestClassifier\n",
        "rf = RandomForestClassifier(n_estimators=30, max_depth=9)\n",
        "rf.fit(X_train, y_train)\n",
        "\n",
        "print(\"score on test: \" + str(rf.score(X_test, y_test)))\n",
        "print(\"score on train: \"+ str(rf.score(X_train, y_train)))\n",
        "\n",
        "# BEST RESULT:\n",
        "# freq: 500ms, test_size:0.35"
      ]
    },
    {
      "cell_type": "markdown",
      "metadata": {
        "id": "l0HQlmgaI7Fx"
      },
      "source": [
        "Bagging Decision Tree"
      ]
    },
    {
      "cell_type": "code",
      "execution_count": 19,
      "metadata": {
        "colab": {
          "base_uri": "https://localhost:8080/"
        },
        "id": "i0CFbuVoI9_k",
        "outputId": "eb235059-9bce-4550-c6ec-ad0d3385fbc5"
      },
      "outputs": [
        {
          "name": "stdout",
          "output_type": "stream",
          "text": [
            "score on test: 0.8645833333333334\n",
            "score on train: 0.9722222222222222\n"
          ]
        }
      ],
      "source": [
        "from sklearn.ensemble import BaggingClassifier\n",
        "from sklearn.tree import DecisionTreeClassifier\n",
        "# max_samples: maximum size 0.5=50% of each sample taken from the full dataset\n",
        "# max_features: maximum of features 1=100% taken here all 10K \n",
        "# n_estimators: number of decision trees \n",
        "bg=BaggingClassifier(DecisionTreeClassifier(),max_samples=0.5,max_features=1.0,n_estimators=10)\n",
        "bg.fit(X_train, y_train)\n",
        "print(\"score on test: \" + str(bg.score(X_test, y_test)))\n",
        "print(\"score on train: \"+ str(bg.score(X_train, y_train)))\n",
        "\n",
        "# BEST RESULT:\n",
        "# freq: 1000ms, test_size:0.25"
      ]
    },
    {
      "cell_type": "markdown",
      "metadata": {
        "id": "fvOo8wk8JN3a"
      },
      "source": [
        "Boosting Decision Tree"
      ]
    },
    {
      "cell_type": "code",
      "execution_count": 20,
      "metadata": {
        "colab": {
          "base_uri": "https://localhost:8080/"
        },
        "id": "oyQrkDMiJRCx",
        "outputId": "acd93185-7ece-464c-b98c-3cc9f80511f4"
      },
      "outputs": [
        {
          "name": "stdout",
          "output_type": "stream",
          "text": [
            "score on test: 0.8854166666666666\n",
            "score on train: 1.0\n"
          ]
        }
      ],
      "source": [
        "from sklearn.ensemble import AdaBoostClassifier\n",
        "from sklearn.tree import DecisionTreeClassifier\n",
        "adb = AdaBoostClassifier(DecisionTreeClassifier(min_samples_split=10,max_depth=4),n_estimators=10,learning_rate=0.6)\n",
        "adb.fit(X_train, y_train)\n",
        "\n",
        "print(\"score on test: \" + str(adb.score(X_test, y_test)))\n",
        "print(\"score on train: \"+ str(adb.score(X_train, y_train)))\n",
        "\n",
        "# BEST RESULT:\n",
        "# freq: 1000ms, test_size:0.25"
      ]
    },
    {
      "cell_type": "markdown",
      "metadata": {
        "id": "1yA9CpZzK54N"
      },
      "source": [
        "Voting Classifier"
      ]
    },
    {
      "cell_type": "code",
      "execution_count": 21,
      "metadata": {
        "colab": {
          "base_uri": "https://localhost:8080/"
        },
        "id": "_Kdn6lKxK7Sm",
        "outputId": "786f47c4-fd08-4a18-ca44-b85270835f55"
      },
      "outputs": [
        {
          "name": "stdout",
          "output_type": "stream",
          "text": [
            "score on test: 0.8541666666666666\n",
            "score on train: 1.0\n"
          ]
        }
      ],
      "source": [
        "from sklearn.ensemble import VotingClassifier\n",
        "\n",
        "evc=VotingClassifier(estimators=[('dt',dt),('adb',adb),('rf',rf),('knn',knn)],voting='hard')\n",
        "evc.fit(X_train, y_train)\n",
        "print(\"score on test: \" + str(evc.score(X_test, y_test)))\n",
        "print(\"score on train: \"+ str(evc.score(X_train, y_train)))\n",
        "\n",
        "# BEST RESULT:\n",
        "# freq: 1000ms, test_size:0.25"
      ]
    },
    {
      "cell_type": "markdown",
      "metadata": {
        "id": "8RqiSu3WNSeU"
      },
      "source": [
        "Neural Network"
      ]
    },
    {
      "cell_type": "code",
      "execution_count": 22,
      "metadata": {
        "id": "Cfl2LWXtQm5B"
      },
      "outputs": [],
      "source": [
        "#!pip install scikeras"
      ]
    },
    {
      "cell_type": "code",
      "execution_count": 23,
      "metadata": {
        "colab": {
          "base_uri": "https://localhost:8080/"
        },
        "id": "hQ3P47P1NUjV",
        "outputId": "1487026f-d0b0-44d8-f9fc-8eb638ae6c6a"
      },
      "outputs": [
        {
          "name": "stderr",
          "output_type": "stream",
          "text": [
            "/usr/local/lib/python3.7/dist-packages/keras/optimizer_v2/gradient_descent.py:102: UserWarning: The `lr` argument is deprecated, use `learning_rate` instead.\n",
            "  super(SGD, self).__init__(name, **kwargs)\n"
          ]
        },
        {
          "name": "stdout",
          "output_type": "stream",
          "text": [
            "3/3 [==============================] - 1s 5ms/step - loss: 2.1653 - accuracy: 0.5208\n",
            "score on test: 0.5208333134651184\n",
            "5/5 [==============================] - 0s 4ms/step - loss: 2.1979 - accuracy: 0.4931\n",
            "score on train: 0.4930555522441864\n"
          ]
        }
      ],
      "source": [
        "from keras import layers\n",
        "from keras import models\n",
        "from keras import optimizers\n",
        "from keras import losses\n",
        "from keras import regularizers\n",
        "from keras import metrics\n",
        "import tensorflow as tf\n",
        "\n",
        "\n",
        "# add validation dataset\n",
        "validation_split=100\n",
        "\n",
        "x_validation=X_train[:validation_split]\n",
        "x_partial_train=X_train[validation_split:]\n",
        "y_validation=y_train[:validation_split]\n",
        "y_partial_train=y_train[validation_split:]\n",
        "\n",
        "model=models.Sequential()\n",
        "model.add(layers.Dense(512,kernel_regularizer=regularizers.l2(0.003),activation='tanh',input_shape=(12,)))\n",
        "model.add(layers.Dropout(0.5))\n",
        "model.add(layers.Dense(256,kernel_regularizer=regularizers.l2(0.003),activation='tanh'))\n",
        "model.add(layers.Dropout(0.6))\n",
        "model.add(layers.Dense(64,kernel_regularizer=regularizers.l2(0.003),activation='leaky_relu'))\n",
        "model.add(layers.Dropout(0.3))\n",
        "model.add(layers.Dense(1,activation='sigmoid'))\n",
        "\n",
        "sgd = tf.keras.optimizers.SGD(lr=0.01)\n",
        "model.compile(optimizer=sgd,loss='binary_crossentropy',metrics=['accuracy'])\n",
        "#model.fit(x_partial_train,y_partial_train,epochs=200,batch_size=128,validation_data=(x_validation,y_validation))\n",
        "\n",
        "print(\"score on test: \" + str(model.evaluate(X_test,y_test)[1]))\n",
        "print(\"score on train: \"+ str(model.evaluate(X_train,y_train)[1]))"
      ]
    },
    {
      "cell_type": "markdown",
      "metadata": {
        "id": "FiFBUgvoJv-p"
      },
      "source": [
        "# Prediction"
      ]
    },
    {
      "cell_type": "code",
      "execution_count": 24,
      "metadata": {
        "id": "ZDorXEa6XtK5"
      },
      "outputs": [],
      "source": [
        "filename = 'prediction_capture.csv'\n",
        "file = open(filename)\n",
        "csvreader = csv.reader(file)\n",
        "prediction = pd.read_csv(filename, encoding = \"ISO-8859-1\")\n",
        "\n",
        "#filter rows by column values\n",
        "prediction = prediction [prediction['Protocol']=='RTP']\n",
        "#select multiple columns\n",
        "prediction = pd.DataFrame(prediction, columns=['No.','Time','Source', 'Destination','DateTime','Length', 'Delta Time'])\n",
        "\n",
        "# add ground truth column\n",
        "label = [None] * prediction['Length'].count()\n",
        "prediction.insert(len(prediction.columns), \"Inbound\", label ,True)\n",
        "\n",
        "for index,row in prediction.iterrows():\n",
        "    if(row['Destination']=='192.168.1.219'):\n",
        "     prediction.at[index,'Inbound']=1\n",
        "    else:\n",
        "      prediction.at[index,'Inbound']=0\n",
        "\n",
        "# convert DateTime from string to index to be used for resampling\n",
        "from pandas.core.indexes.datetimes import DatetimeIndex\n",
        "prediction['DateTime'] = pd.to_datetime(prediction['DateTime'], format='%H:%M:%S.%f')\n",
        "prediction_index = pd.DatetimeIndex(prediction['DateTime'])\n",
        "prediction = prediction.set_index(prediction_index)\n",
        "\n",
        "prediction_inbound = prediction[prediction['Destination']=='192.168.1.219']\n",
        "prediction_outbound = prediction[prediction['Source']=='192.168.1.219']\n",
        "\n",
        "# AGGREGATE\n",
        "# number of packets after resampling\n",
        "prediction_counter = prediction.groupby([pd.Grouper(key='DateTime', freq=resampling_frequency)]).count()\n",
        "# compute average of the aggregate's features\n",
        "prediction = prediction.groupby([pd.Grouper(key='DateTime', freq=resampling_frequency)]).mean().groupby(level=0).mean()\n",
        "\n",
        "# INBOUND\n",
        "# number of packets after resampling\n",
        "prediction_inbound_counter = prediction_inbound.groupby([pd.Grouper(key='DateTime', freq=resampling_frequency)]).count()\n",
        "# compute average of the aggregate's features\n",
        "prediction_inbound = prediction_inbound.groupby([pd.Grouper(key='DateTime', freq=resampling_frequency)]).mean().groupby(level=0).mean()\n",
        "\n",
        "# OUTBOUND\n",
        "# number of packets after resampling\n",
        "prediction_outbound_counter = prediction_outbound.groupby([pd.Grouper(key='DateTime', freq=resampling_frequency)]).count()\n",
        "# compute average of the aggregate's features\n",
        "prediction_outbound = prediction_outbound.groupby([pd.Grouper(key='DateTime', freq=resampling_frequency)]).mean().groupby(level=0).mean()\n",
        "\n",
        "\n",
        "prediction_inbound= prediction_inbound.loc[:, prediction_inbound.columns != 'No.']\n",
        "prediction_outbound= prediction_outbound.loc[:, prediction_outbound.columns != 'No.']\n",
        "\n",
        "prediction_inbound = prediction_inbound.rename(columns={'Time': 'Time (Inbound)', 'Length':'Length (Inbound)', 'Delta Time': 'Delta Time (Inbound)'})\n",
        "prediction_outbound = prediction_outbound.rename(columns={'Time': 'Time (Outbound)', 'Length':'Length (Outbound)', 'Delta Time': 'Delta Time (Outbound)'})\n",
        "\n",
        "prediction_inbound.insert(0, \"Number of packets (Inbound)\", prediction_inbound_counter['No.'].values,True)\n",
        "prediction_outbound.insert(0, \"Number of packets (Outbound)\", prediction_outbound_counter['No.'].values,True)\n",
        "\n",
        "\n",
        "# AGGREGATE\n",
        "# add number of packets column\n",
        "prediction.insert(0, \"Number of packets\", prediction_counter['No.'].values,True)\n",
        "prediction.drop('No.', axis=1, inplace=True)\n",
        "\n",
        "# add average length per ms\n",
        "bytes_per_ms = prediction['Length']/time\n",
        "prediction.insert(len(prediction.columns), \"Bytes/ms\", bytes_per_ms, True)\n",
        "\n",
        "# add bit-rate column\n",
        "rate = prediction['Number of packets']/time\n",
        "prediction.insert(len(prediction.columns), \"Bit-Rate\", rate, True)\n",
        "\n",
        "\n",
        "# INBOUND\n",
        "# add average length per ms\n",
        "bytes_per_ms = prediction_inbound['Length (Inbound)']/time\n",
        "prediction_inbound.insert(len(prediction_inbound.columns), \"Bytes/ms (Inbound)\", bytes_per_ms, True)\n",
        "\n",
        "# add bit-rate column\n",
        "rate = prediction_inbound['Number of packets (Inbound)']/time\n",
        "prediction_inbound.insert(len(prediction_inbound.columns), \"Bit-Rate (Inbound)\", rate, True)\n",
        "\n",
        "prediction_inbound.drop('Time (Inbound)', axis=1, inplace=True)\n",
        "\n",
        "# OUTBOUND\n",
        "# add average length per ms\n",
        "bytes_per_ms = prediction_outbound['Length (Outbound)']/time\n",
        "prediction_outbound.insert(len(prediction_outbound.columns), \"Bytes/ms (Outbound)\", bytes_per_ms, True)\n",
        "\n",
        "# add bit-rate column\n",
        "rate = prediction_outbound['Number of packets (Outbound)']/time\n",
        "prediction_outbound.insert(len(prediction_outbound.columns), \"Bit-Rate (Outbound)\", rate, True)\n",
        "\n",
        "prediction_outbound.drop('Time (Outbound)', axis=1, inplace=True)\n",
        "\n",
        "overall = pd.concat([prediction_inbound, prediction_outbound], axis=1)\n",
        "prediction = pd.concat([prediction,overall], axis=1)"
      ]
    },
    {
      "cell_type": "code",
      "execution_count": 25,
      "metadata": {
        "colab": {
          "base_uri": "https://localhost:8080/",
          "height": 690
        },
        "id": "LecOjgVHZZWn",
        "outputId": "1a67b23b-dd1c-443e-b4a4-0bb873b70eea"
      },
      "outputs": [
        {
          "data": {
            "text/html": [
              "\n",
              "  <div id=\"df-42e59c06-bee8-446b-8818-7976e5d2c0ef\">\n",
              "    <div class=\"colab-df-container\">\n",
              "      <div>\n",
              "<style scoped>\n",
              "    .dataframe tbody tr th:only-of-type {\n",
              "        vertical-align: middle;\n",
              "    }\n",
              "\n",
              "    .dataframe tbody tr th {\n",
              "        vertical-align: top;\n",
              "    }\n",
              "\n",
              "    .dataframe thead th {\n",
              "        text-align: right;\n",
              "    }\n",
              "</style>\n",
              "<table border=\"1\" class=\"dataframe\">\n",
              "  <thead>\n",
              "    <tr style=\"text-align: right;\">\n",
              "      <th></th>\n",
              "      <th>Length</th>\n",
              "      <th>Delta Time</th>\n",
              "      <th>Bytes/ms</th>\n",
              "      <th>Bit-Rate</th>\n",
              "      <th>Length (Inbound)</th>\n",
              "      <th>Delta Time (Inbound)</th>\n",
              "      <th>Bytes/ms (Inbound)</th>\n",
              "      <th>Bit-Rate (Inbound)</th>\n",
              "      <th>Length (Outbound)</th>\n",
              "      <th>Delta Time (Outbound)</th>\n",
              "      <th>Bytes/ms (Outbound)</th>\n",
              "      <th>Bit-Rate (Outbound)</th>\n",
              "      <th>Person</th>\n",
              "    </tr>\n",
              "    <tr>\n",
              "      <th>DateTime</th>\n",
              "      <th></th>\n",
              "      <th></th>\n",
              "      <th></th>\n",
              "      <th></th>\n",
              "      <th></th>\n",
              "      <th></th>\n",
              "      <th></th>\n",
              "      <th></th>\n",
              "      <th></th>\n",
              "      <th></th>\n",
              "      <th></th>\n",
              "      <th></th>\n",
              "      <th></th>\n",
              "    </tr>\n",
              "  </thead>\n",
              "  <tbody>\n",
              "    <tr>\n",
              "      <th>1900-01-01 13:37:17</th>\n",
              "      <td>836.189427</td>\n",
              "      <td>0.002055</td>\n",
              "      <td>0.836189</td>\n",
              "      <td>0.227</td>\n",
              "      <td>901.223077</td>\n",
              "      <td>0.000515</td>\n",
              "      <td>0.901223</td>\n",
              "      <td>0.130</td>\n",
              "      <td>749.030928</td>\n",
              "      <td>0.004118</td>\n",
              "      <td>0.749031</td>\n",
              "      <td>0.097</td>\n",
              "      <td>1</td>\n",
              "    </tr>\n",
              "    <tr>\n",
              "      <th>1900-01-01 13:37:18</th>\n",
              "      <td>725.228739</td>\n",
              "      <td>0.002183</td>\n",
              "      <td>0.725229</td>\n",
              "      <td>0.341</td>\n",
              "      <td>688.132979</td>\n",
              "      <td>0.001117</td>\n",
              "      <td>0.688133</td>\n",
              "      <td>0.188</td>\n",
              "      <td>770.810458</td>\n",
              "      <td>0.003493</td>\n",
              "      <td>0.770810</td>\n",
              "      <td>0.153</td>\n",
              "      <td>1</td>\n",
              "    </tr>\n",
              "    <tr>\n",
              "      <th>1900-01-01 13:37:19</th>\n",
              "      <td>767.161512</td>\n",
              "      <td>0.002344</td>\n",
              "      <td>0.767162</td>\n",
              "      <td>0.291</td>\n",
              "      <td>777.886525</td>\n",
              "      <td>0.001111</td>\n",
              "      <td>0.777887</td>\n",
              "      <td>0.141</td>\n",
              "      <td>757.080000</td>\n",
              "      <td>0.003504</td>\n",
              "      <td>0.757080</td>\n",
              "      <td>0.150</td>\n",
              "      <td>1</td>\n",
              "    </tr>\n",
              "    <tr>\n",
              "      <th>1900-01-01 13:37:20</th>\n",
              "      <td>820.416149</td>\n",
              "      <td>0.002171</td>\n",
              "      <td>0.820416</td>\n",
              "      <td>0.322</td>\n",
              "      <td>850.238372</td>\n",
              "      <td>0.000800</td>\n",
              "      <td>0.850238</td>\n",
              "      <td>0.172</td>\n",
              "      <td>786.220000</td>\n",
              "      <td>0.003742</td>\n",
              "      <td>0.786220</td>\n",
              "      <td>0.150</td>\n",
              "      <td>1</td>\n",
              "    </tr>\n",
              "    <tr>\n",
              "      <th>1900-01-01 13:37:21</th>\n",
              "      <td>785.569182</td>\n",
              "      <td>0.002229</td>\n",
              "      <td>0.785569</td>\n",
              "      <td>0.318</td>\n",
              "      <td>808.783951</td>\n",
              "      <td>0.000777</td>\n",
              "      <td>0.808784</td>\n",
              "      <td>0.162</td>\n",
              "      <td>761.461538</td>\n",
              "      <td>0.003736</td>\n",
              "      <td>0.761462</td>\n",
              "      <td>0.156</td>\n",
              "      <td>1</td>\n",
              "    </tr>\n",
              "    <tr>\n",
              "      <th>...</th>\n",
              "      <td>...</td>\n",
              "      <td>...</td>\n",
              "      <td>...</td>\n",
              "      <td>...</td>\n",
              "      <td>...</td>\n",
              "      <td>...</td>\n",
              "      <td>...</td>\n",
              "      <td>...</td>\n",
              "      <td>...</td>\n",
              "      <td>...</td>\n",
              "      <td>...</td>\n",
              "      <td>...</td>\n",
              "      <td>...</td>\n",
              "    </tr>\n",
              "    <tr>\n",
              "      <th>1900-01-01 13:41:13</th>\n",
              "      <td>501.236364</td>\n",
              "      <td>0.002733</td>\n",
              "      <td>0.501236</td>\n",
              "      <td>0.275</td>\n",
              "      <td>602.391753</td>\n",
              "      <td>0.000967</td>\n",
              "      <td>0.602392</td>\n",
              "      <td>0.194</td>\n",
              "      <td>258.962963</td>\n",
              "      <td>0.006964</td>\n",
              "      <td>0.258963</td>\n",
              "      <td>0.081</td>\n",
              "      <td>0</td>\n",
              "    </tr>\n",
              "    <tr>\n",
              "      <th>1900-01-01 13:41:14</th>\n",
              "      <td>429.505415</td>\n",
              "      <td>0.002828</td>\n",
              "      <td>0.429505</td>\n",
              "      <td>0.277</td>\n",
              "      <td>437.481283</td>\n",
              "      <td>0.000945</td>\n",
              "      <td>0.437481</td>\n",
              "      <td>0.187</td>\n",
              "      <td>412.933333</td>\n",
              "      <td>0.006738</td>\n",
              "      <td>0.412933</td>\n",
              "      <td>0.090</td>\n",
              "      <td>0</td>\n",
              "    </tr>\n",
              "    <tr>\n",
              "      <th>1900-01-01 13:41:15</th>\n",
              "      <td>491.483221</td>\n",
              "      <td>0.002631</td>\n",
              "      <td>0.491483</td>\n",
              "      <td>0.298</td>\n",
              "      <td>458.584211</td>\n",
              "      <td>0.000822</td>\n",
              "      <td>0.458584</td>\n",
              "      <td>0.190</td>\n",
              "      <td>549.361111</td>\n",
              "      <td>0.005813</td>\n",
              "      <td>0.549361</td>\n",
              "      <td>0.108</td>\n",
              "      <td>0</td>\n",
              "    </tr>\n",
              "    <tr>\n",
              "      <th>1900-01-01 13:41:16</th>\n",
              "      <td>593.008902</td>\n",
              "      <td>0.002421</td>\n",
              "      <td>0.593009</td>\n",
              "      <td>0.337</td>\n",
              "      <td>507.435000</td>\n",
              "      <td>0.000752</td>\n",
              "      <td>0.507435</td>\n",
              "      <td>0.200</td>\n",
              "      <td>717.934307</td>\n",
              "      <td>0.004858</td>\n",
              "      <td>0.717934</td>\n",
              "      <td>0.137</td>\n",
              "      <td>0</td>\n",
              "    </tr>\n",
              "    <tr>\n",
              "      <th>1900-01-01 13:41:17</th>\n",
              "      <td>544.404255</td>\n",
              "      <td>0.002317</td>\n",
              "      <td>0.544404</td>\n",
              "      <td>0.047</td>\n",
              "      <td>398.214286</td>\n",
              "      <td>0.001170</td>\n",
              "      <td>0.398214</td>\n",
              "      <td>0.028</td>\n",
              "      <td>759.842105</td>\n",
              "      <td>0.004007</td>\n",
              "      <td>0.759842</td>\n",
              "      <td>0.019</td>\n",
              "      <td>0</td>\n",
              "    </tr>\n",
              "  </tbody>\n",
              "</table>\n",
              "<p>241 rows × 13 columns</p>\n",
              "</div>\n",
              "      <button class=\"colab-df-convert\" onclick=\"convertToInteractive('df-42e59c06-bee8-446b-8818-7976e5d2c0ef')\"\n",
              "              title=\"Convert this dataframe to an interactive table.\"\n",
              "              style=\"display:none;\">\n",
              "        \n",
              "  <svg xmlns=\"http://www.w3.org/2000/svg\" height=\"24px\"viewBox=\"0 0 24 24\"\n",
              "       width=\"24px\">\n",
              "    <path d=\"M0 0h24v24H0V0z\" fill=\"none\"/>\n",
              "    <path d=\"M18.56 5.44l.94 2.06.94-2.06 2.06-.94-2.06-.94-.94-2.06-.94 2.06-2.06.94zm-11 1L8.5 8.5l.94-2.06 2.06-.94-2.06-.94L8.5 2.5l-.94 2.06-2.06.94zm10 10l.94 2.06.94-2.06 2.06-.94-2.06-.94-.94-2.06-.94 2.06-2.06.94z\"/><path d=\"M17.41 7.96l-1.37-1.37c-.4-.4-.92-.59-1.43-.59-.52 0-1.04.2-1.43.59L10.3 9.45l-7.72 7.72c-.78.78-.78 2.05 0 2.83L4 21.41c.39.39.9.59 1.41.59.51 0 1.02-.2 1.41-.59l7.78-7.78 2.81-2.81c.8-.78.8-2.07 0-2.86zM5.41 20L4 18.59l7.72-7.72 1.47 1.35L5.41 20z\"/>\n",
              "  </svg>\n",
              "      </button>\n",
              "      \n",
              "  <style>\n",
              "    .colab-df-container {\n",
              "      display:flex;\n",
              "      flex-wrap:wrap;\n",
              "      gap: 12px;\n",
              "    }\n",
              "\n",
              "    .colab-df-convert {\n",
              "      background-color: #E8F0FE;\n",
              "      border: none;\n",
              "      border-radius: 50%;\n",
              "      cursor: pointer;\n",
              "      display: none;\n",
              "      fill: #1967D2;\n",
              "      height: 32px;\n",
              "      padding: 0 0 0 0;\n",
              "      width: 32px;\n",
              "    }\n",
              "\n",
              "    .colab-df-convert:hover {\n",
              "      background-color: #E2EBFA;\n",
              "      box-shadow: 0px 1px 2px rgba(60, 64, 67, 0.3), 0px 1px 3px 1px rgba(60, 64, 67, 0.15);\n",
              "      fill: #174EA6;\n",
              "    }\n",
              "\n",
              "    [theme=dark] .colab-df-convert {\n",
              "      background-color: #3B4455;\n",
              "      fill: #D2E3FC;\n",
              "    }\n",
              "\n",
              "    [theme=dark] .colab-df-convert:hover {\n",
              "      background-color: #434B5C;\n",
              "      box-shadow: 0px 1px 3px 1px rgba(0, 0, 0, 0.15);\n",
              "      filter: drop-shadow(0px 1px 2px rgba(0, 0, 0, 0.3));\n",
              "      fill: #FFFFFF;\n",
              "    }\n",
              "  </style>\n",
              "\n",
              "      <script>\n",
              "        const buttonEl =\n",
              "          document.querySelector('#df-42e59c06-bee8-446b-8818-7976e5d2c0ef button.colab-df-convert');\n",
              "        buttonEl.style.display =\n",
              "          google.colab.kernel.accessAllowed ? 'block' : 'none';\n",
              "\n",
              "        async function convertToInteractive(key) {\n",
              "          const element = document.querySelector('#df-42e59c06-bee8-446b-8818-7976e5d2c0ef');\n",
              "          const dataTable =\n",
              "            await google.colab.kernel.invokeFunction('convertToInteractive',\n",
              "                                                     [key], {});\n",
              "          if (!dataTable) return;\n",
              "\n",
              "          const docLinkHtml = 'Like what you see? Visit the ' +\n",
              "            '<a target=\"_blank\" href=https://colab.research.google.com/notebooks/data_table.ipynb>data table notebook</a>'\n",
              "            + ' to learn more about interactive tables.';\n",
              "          element.innerHTML = '';\n",
              "          dataTable['output_type'] = 'display_data';\n",
              "          await google.colab.output.renderOutput(dataTable, element);\n",
              "          const docLink = document.createElement('div');\n",
              "          docLink.innerHTML = docLinkHtml;\n",
              "          element.appendChild(docLink);\n",
              "        }\n",
              "      </script>\n",
              "    </div>\n",
              "  </div>\n",
              "  "
            ],
            "text/plain": [
              "                         Length  Delta Time  Bytes/ms  Bit-Rate  \\\n",
              "DateTime                                                          \n",
              "1900-01-01 13:37:17  836.189427    0.002055  0.836189     0.227   \n",
              "1900-01-01 13:37:18  725.228739    0.002183  0.725229     0.341   \n",
              "1900-01-01 13:37:19  767.161512    0.002344  0.767162     0.291   \n",
              "1900-01-01 13:37:20  820.416149    0.002171  0.820416     0.322   \n",
              "1900-01-01 13:37:21  785.569182    0.002229  0.785569     0.318   \n",
              "...                         ...         ...       ...       ...   \n",
              "1900-01-01 13:41:13  501.236364    0.002733  0.501236     0.275   \n",
              "1900-01-01 13:41:14  429.505415    0.002828  0.429505     0.277   \n",
              "1900-01-01 13:41:15  491.483221    0.002631  0.491483     0.298   \n",
              "1900-01-01 13:41:16  593.008902    0.002421  0.593009     0.337   \n",
              "1900-01-01 13:41:17  544.404255    0.002317  0.544404     0.047   \n",
              "\n",
              "                     Length (Inbound)  Delta Time (Inbound)  \\\n",
              "DateTime                                                      \n",
              "1900-01-01 13:37:17        901.223077              0.000515   \n",
              "1900-01-01 13:37:18        688.132979              0.001117   \n",
              "1900-01-01 13:37:19        777.886525              0.001111   \n",
              "1900-01-01 13:37:20        850.238372              0.000800   \n",
              "1900-01-01 13:37:21        808.783951              0.000777   \n",
              "...                               ...                   ...   \n",
              "1900-01-01 13:41:13        602.391753              0.000967   \n",
              "1900-01-01 13:41:14        437.481283              0.000945   \n",
              "1900-01-01 13:41:15        458.584211              0.000822   \n",
              "1900-01-01 13:41:16        507.435000              0.000752   \n",
              "1900-01-01 13:41:17        398.214286              0.001170   \n",
              "\n",
              "                     Bytes/ms (Inbound)  Bit-Rate (Inbound)  \\\n",
              "DateTime                                                      \n",
              "1900-01-01 13:37:17            0.901223               0.130   \n",
              "1900-01-01 13:37:18            0.688133               0.188   \n",
              "1900-01-01 13:37:19            0.777887               0.141   \n",
              "1900-01-01 13:37:20            0.850238               0.172   \n",
              "1900-01-01 13:37:21            0.808784               0.162   \n",
              "...                                 ...                 ...   \n",
              "1900-01-01 13:41:13            0.602392               0.194   \n",
              "1900-01-01 13:41:14            0.437481               0.187   \n",
              "1900-01-01 13:41:15            0.458584               0.190   \n",
              "1900-01-01 13:41:16            0.507435               0.200   \n",
              "1900-01-01 13:41:17            0.398214               0.028   \n",
              "\n",
              "                     Length (Outbound)  Delta Time (Outbound)  \\\n",
              "DateTime                                                        \n",
              "1900-01-01 13:37:17         749.030928               0.004118   \n",
              "1900-01-01 13:37:18         770.810458               0.003493   \n",
              "1900-01-01 13:37:19         757.080000               0.003504   \n",
              "1900-01-01 13:37:20         786.220000               0.003742   \n",
              "1900-01-01 13:37:21         761.461538               0.003736   \n",
              "...                                ...                    ...   \n",
              "1900-01-01 13:41:13         258.962963               0.006964   \n",
              "1900-01-01 13:41:14         412.933333               0.006738   \n",
              "1900-01-01 13:41:15         549.361111               0.005813   \n",
              "1900-01-01 13:41:16         717.934307               0.004858   \n",
              "1900-01-01 13:41:17         759.842105               0.004007   \n",
              "\n",
              "                     Bytes/ms (Outbound)  Bit-Rate (Outbound) Person  \n",
              "DateTime                                                              \n",
              "1900-01-01 13:37:17             0.749031                0.097      1  \n",
              "1900-01-01 13:37:18             0.770810                0.153      1  \n",
              "1900-01-01 13:37:19             0.757080                0.150      1  \n",
              "1900-01-01 13:37:20             0.786220                0.150      1  \n",
              "1900-01-01 13:37:21             0.761462                0.156      1  \n",
              "...                                  ...                  ...    ...  \n",
              "1900-01-01 13:41:13             0.258963                0.081      0  \n",
              "1900-01-01 13:41:14             0.412933                0.090      0  \n",
              "1900-01-01 13:41:15             0.549361                0.108      0  \n",
              "1900-01-01 13:41:16             0.717934                0.137      0  \n",
              "1900-01-01 13:41:17             0.759842                0.019      0  \n",
              "\n",
              "[241 rows x 13 columns]"
            ]
          },
          "execution_count": 25,
          "metadata": {},
          "output_type": "execute_result"
        }
      ],
      "source": [
        "clean_dataset(prediction)\n",
        "# add ground truth column\n",
        "label = [None] * prediction['Length'].count()\n",
        "prediction.insert(len(prediction.columns), \"Person\", label ,True)\n",
        "\n",
        "for index,row in prediction.iterrows():\n",
        "    if(row['Time']<60 or (row['Time']>=120 and row['Time']<180)):\n",
        "     prediction.at[index,'Person']=1\n",
        "    else:\n",
        "      prediction.at[index,'Person']=0\n",
        "\n",
        "timestamps = prediction['Time']\n",
        "prediction.drop('Time', axis=1, inplace=True)\n",
        "\n",
        "prediction.drop('Number of packets', axis=1, inplace=True)\n",
        "prediction.drop('Number of packets (Inbound)', axis=1, inplace=True)\n",
        "prediction.drop('Number of packets (Outbound)', axis=1, inplace=True)\n",
        "\n",
        "\n",
        "prediction"
      ]
    },
    {
      "cell_type": "code",
      "execution_count": 26,
      "metadata": {
        "colab": {
          "base_uri": "https://localhost:8080/"
        },
        "id": "FsVDz_zTDPAA",
        "outputId": "2e522b3b-33b5-4dcf-9613-123fb5017d7a"
      },
      "outputs": [
        {
          "name": "stderr",
          "output_type": "stream",
          "text": [
            "/usr/local/lib/python3.7/dist-packages/sklearn/base.py:444: UserWarning: X has feature names, but DecisionTreeClassifier was fitted without feature names\n",
            "  f\"X has feature names, but {self.__class__.__name__} was fitted without\"\n"
          ]
        }
      ],
      "source": [
        "# creation of the prediction label to be plotted\n",
        "\n",
        "#prediction_label = lr.predict(prediction.loc[:, prediction.columns !='Person'])\n",
        "#prediction_label = mnb.predict(prediction.loc[:, prediction.columns !='Person'])\n",
        "#prediction_label = knn.predict(prediction.loc[:, prediction.columns !='Person'])\n",
        "#prediction_label = svm.predict(prediction.loc[:, prediction.columns !='Person'])\n",
        "prediction_label = dt.predict(prediction.loc[:, prediction.columns !='Person'])\n",
        "#prediction_label = rf.predict(prediction.loc[:, prediction.columns !='Person'])\n",
        "#prediction_label = bg.predict(prediction.loc[:, prediction.columns !='Person'])\n",
        "#prediction_label = adb.predict(prediction.loc[:, prediction.columns !='Person'])\n",
        "#prediction_label = evc.predict(prediction.loc[:, prediction.columns !='Person'])"
      ]
    },
    {
      "cell_type": "code",
      "execution_count": 27,
      "metadata": {
        "colab": {
          "base_uri": "https://localhost:8080/",
          "height": 626
        },
        "id": "UNlWf4ANFqTP",
        "outputId": "c2a5d01e-d41b-4a39-9c22-709bcb458185"
      },
      "outputs": [
        {
          "data": {
            "image/png": "[encoded data removed]",
            "text/plain": [
              "<Figure size 1440x720 with 1 Axes>"
            ]
          },
          "metadata": {
            "needs_background": "light"
          },
          "output_type": "display_data"
        }
      ],
      "source": [
        "import matplotlib.pyplot as plot\n",
        "from matplotlib.ticker import StrMethodFormatter\n",
        "\n",
        "values = timestamps\n",
        "\n",
        "plot.figure(figsize=(20,10))\n",
        "plot.gca().xaxis.set_major_formatter(StrMethodFormatter('{x:,.2f}'))\n",
        "plot.plot(   \n",
        "    values,   \n",
        "      prediction_label,\n",
        "     color = 'blue')\n",
        "plot.plot(\n",
        "    values,\n",
        "     prediction['Person'],\n",
        "    color ='red',\n",
        ")\n",
        "plot.legend([\"Computed\", \"Ground Truth\"], fontsize=15)\n",
        "plot.yticks(fontsize=13)\n",
        "\n",
        "plot.annotate('Moving Person', xy=(1, 1), xytext=(-46,0.99), fontsize=15)\n",
        "plot.annotate('Background', xy=(1, 1), xytext=(-42,-0.01), fontsize=15)\n",
        "plot.xlabel('Time (s)', fontsize=15, labelpad=20)\n",
        "plot.grid(linestyle='--', linewidth=1.5)\n",
        "plot.show()"
      ]
    },
    {
      "cell_type": "markdown",
      "metadata": {
        "id": "PYRojFyIZl3t"
      },
      "source": [
        "CSV Export"
      ]
    },
    {
      "cell_type": "code",
      "execution_count": 28,
      "metadata": {
        "id": "sR_ltC8hYPIb"
      },
      "outputs": [],
      "source": [
        "pd.DataFrame(prediction_label).to_csv(\"prediction_label.csv\")\n",
        "\n",
        "pd.DataFrame(prediction['Person']).to_csv(\"ground_truth_label.csv\")\n",
        "\n",
        "pd.DataFrame(values).to_csv(\"timestamps.csv\")"
      ]
    },
    {
      "cell_type": "markdown",
      "metadata": {},
      "source": [
        "# Confusion Matrix"
      ]
    },
    {
      "cell_type": "code",
      "execution_count": 29,
      "metadata": {
        "colab": {
          "base_uri": "https://localhost:8080/",
          "height": 337
        },
        "id": "Gmy-7AB_aw6B",
        "outputId": "03b18a1c-1526-41fb-b74e-f8c4b2e3b4ae"
      },
      "outputs": [
        {
          "data": {
            "image/png": "[encoded data removed]",
            "text/plain": [
              "<Figure size 432x288 with 2 Axes>"
            ]
          },
          "metadata": {
            "needs_background": "light"
          },
          "output_type": "display_data"
        }
      ],
      "source": [
        "import seaborn as sns\n",
        "from sklearn.metrics import confusion_matrix\n",
        "\n",
        "#Generate the confusion matrix\n",
        "cf_matrix = confusion_matrix(prediction_label.astype(float), prediction['Person'].astype(float))\n",
        "\n",
        "ax = sns.heatmap(cf_matrix/np.sum(cf_matrix), annot=True,\n",
        "fmt='.2%', cmap='Blues')\n",
        "ax.set_title('Seaborn Confusion Matrix with labels\\n\\n');\n",
        "ax.set_xlabel('\\nPredicted Values')\n",
        "ax.set_ylabel('Actual Values ');\n",
        "## Ticket labels - List must be in alphabetical order\n",
        "ax.xaxis.set_ticklabels(['False','True'])\n",
        "ax.yaxis.set_ticklabels(['False','True'])\n",
        "## Display the visualization of the Confusion Matrix.\n",
        "plot.show()"
      ]
    },
    {
      "cell_type": "markdown",
      "metadata": {},
      "source": [
        "# Learning Rate"
      ]
    },
    {
      "cell_type": "code",
      "execution_count": 30,
      "metadata": {
        "colab": {
          "base_uri": "https://localhost:8080/",
          "height": 729
        },
        "id": "VI0dcjQvdCSL",
        "outputId": "20dc1cc7-0777-419d-8176-e7f8694c82b6"
      },
      "outputs": [
        {
          "data": {
            "image/png": "[encoded data removed]",
            "text/plain": [
              "<Figure size 720x720 with 1 Axes>"
            ]
          },
          "metadata": {
            "needs_background": "light"
          },
          "output_type": "display_data"
        }
      ],
      "source": [
        "from sklearn.model_selection import learning_curve\n",
        "import matplotlib.pyplot as plt\n",
        "import sklearn\n",
        "from sklearn.tree import DecisionTreeClassifier \n",
        "from sklearn.ensemble import VotingClassifier\n",
        "from sklearn.ensemble import BaggingClassifier\n",
        "from sklearn.ensemble import AdaBoostClassifier\n",
        "from sklearn.ensemble import RandomForestClassifier\n",
        "\n",
        "# to check the others you must change the estimator field (with the same parameters of the fitting section)\n",
        "train_sizes, train_scores, validation_scores = learning_curve(\n",
        "estimator = DecisionTreeClassifier(),\n",
        "X = X, y = y, train_sizes = np.arange(110, 192, 5), cv = 5)\n",
        "\n",
        "train_scores_mean = train_scores.mean(axis = 1)\n",
        "validation_scores_mean = validation_scores.mean(axis = 1)\n",
        "\n",
        "plt.subplots(1, figsize=(10,10))\n",
        "plt.plot(train_sizes, train_scores_mean, '--', color=\"#111111\",  label=\"Training score\")\n",
        "plt.plot(train_sizes, validation_scores_mean, color=\"#111111\", label=\"Validation score\")\n",
        "\n",
        "train_mean = np.mean(train_scores, axis=1)\n",
        "train_std = np.std(train_scores, axis=1)\n",
        "\n",
        "test_mean = np.mean(validation_scores, axis=1)\n",
        "test_std = np.std(validation_scores, axis=1)\n",
        "\n",
        "plt.fill_between(train_sizes, train_scores_mean - train_std, train_mean + train_std, color=\"#DDDDDD\")\n",
        "plt.fill_between(train_sizes, validation_scores_mean - test_std, test_mean + test_std, color=\"#DDDDDD\")\n",
        "\n",
        "plt.title(\"Learning Curve\")\n",
        "plt.xlabel(\"Training Set Size\"), plt.ylabel(\"Accuracy Score\"), plt.legend(loc=\"best\")\n",
        "plt.tight_layout()\n",
        "plt.show()"
      ]
    }
  ],
  "metadata": {
    "colab": {
      "collapsed_sections": [],
      "name": "wireshark_packets.ipynb",
      "provenance": []
    },
    "gpuClass": "standard",
    "kernelspec": {
      "display_name": "Python 3.10.0 64-bit",
      "language": "python",
      "name": "python3"
    },
    "language_info": {
      "codemirror_mode": {
        "name": "ipython",
        "version": 3
      },
      "file_extension": ".py",
      "mimetype": "text/x-python",
      "name": "python",
      "nbconvert_exporter": "python",
      "pygments_lexer": "ipython3",
      "version": "3.10.0"
    },
    "vscode": {
      "interpreter": {
        "hash": "369f2c481f4da34e4445cda3fffd2e751bd1c4d706f27375911949ba6bb62e1c"
      }
    }
  },
  "nbformat": 4,
  "nbformat_minor": 0
}
